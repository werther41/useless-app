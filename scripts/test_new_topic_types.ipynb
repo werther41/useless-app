{
  "cells": [
    {
      "cell_type": "markdown",
      "metadata": {},
      "source": [
        "# Test New Topic Types and Prompt\n",
        "\n",
        "This notebook tests the new topic extraction prompt and entity types without saving to database.\n",
        "\n",
        "## New Entity Types:\n",
        "- PERSON: People, scientists, researchers\n",
        "- ORG: Organizations, companies, institutions\n",
        "- LOCATION: Geographical places, countries, cities\n",
        "- PRODUCT: Specific software, hardware, or services\n",
        "- PROGRAMMING_LANGUAGE: Programming languages\n",
        "- SCIENTIFIC_TERM: Specific scientific concepts, theories, species\n",
        "- FIELD_OF_STUDY: Broader domains of knowledge\n",
        "- EVENT: Specific named events, conferences\n",
        "- WORK_OF_ART: Named creative works\n",
        "- LAW_OR_POLICY: Named laws, regulations, policies\n"
      ]
    },
    {
      "cell_type": "code",
      "execution_count": 6,
      "metadata": {},
      "outputs": [
        {
          "name": "stdout",
          "output_type": "stream",
          "text": [
            "✅ Gemini configured\n",
            "📋 New entity types: ['PERSON', 'ORG', 'LOCATION', 'PRODUCT', 'PROGRAMMING_LANGUAGE', 'SCIENTIFIC_TERM', 'FIELD_OF_STUDY', 'EVENT', 'WORK_OF_ART', 'LAW_OR_POLICY']\n"
          ]
        }
      ],
      "source": [
        "import os\n",
        "import json\n",
        "import time\n",
        "from typing import List, Dict\n",
        "from dotenv import load_dotenv\n",
        "import google.generativeai as genai\n",
        "\n",
        "# Load environment variables\n",
        "load_dotenv()\n",
        "\n",
        "# Configure Gemini\n",
        "GOOGLE_API_KEY = os.getenv(\"GOOGLE_API_KEY\")\n",
        "if GOOGLE_API_KEY:\n",
        "    genai.configure(api_key=GOOGLE_API_KEY)\n",
        "    model = genai.GenerativeModel('gemini-2.0-flash-lite')\n",
        "    print(\"✅ Gemini configured\")\n",
        "else:\n",
        "    model = None\n",
        "    print(\"❌ GOOGLE_API_KEY not set\")\n",
        "\n",
        "# New entity types\n",
        "NEW_ENTITY_TYPES = [\n",
        "    'PERSON', 'ORG', 'LOCATION', 'PRODUCT', 'PROGRAMMING_LANGUAGE', \n",
        "    'SCIENTIFIC_TERM', 'FIELD_OF_STUDY', 'EVENT', 'WORK_OF_ART', 'LAW_OR_POLICY'\n",
        "]\n",
        "\n",
        "print(f\"📋 New entity types: {NEW_ENTITY_TYPES}\")\n"
      ]
    },
    {
      "cell_type": "code",
      "execution_count": 2,
      "metadata": {},
      "outputs": [
        {
          "name": "stdout",
          "output_type": "stream",
          "text": [
            "✅ New extraction function ready\n"
          ]
        }
      ],
      "source": [
        "def extract_topics_new_prompt(title: str, content: str) -> List[Dict]:\n",
        "    \"\"\"Extract topics using the new prompt and entity types\"\"\"\n",
        "    prompt = f\"\"\"You are an expert NLP system. Your task is to extract the 5-10 most important named entities and key concepts from the following news article.\n",
        "\n",
        "Focus on identifying specific and relevant items. Use the following entity types:\n",
        "- **PERSON**: People, scientists, researchers.\n",
        "- **ORG**: Organizations, companies, institutions (e.g., \"NASA\", \"Google\").\n",
        "- **LOCATION**: Geographical places, countries, cities.\n",
        "- **PRODUCT**: Specific software, hardware, or services (e.g., \"iPhone 17\", \"GitHub Copilot\").\n",
        "- **PROGRAMMING_LANGUAGE**: Programming languages (e.g., \"Python\", \"Rust\").\n",
        "- **SCIENTIFIC_TERM**: Specific scientific concepts, theories, species, or astronomical bodies (e.g., \"black hole\", \"CRISPR\").\n",
        "- **FIELD_OF_STUDY**: Broader domains of knowledge (e.g., \"Machine Learning\", \"Astrophysics\").\n",
        "- **EVENT**: Specific named events, conferences, or historical periods (e.g., \"WWDC 2025\", \"The Renaissance\").\n",
        "- **WORK_OF_ART**: Named creative works like books, films, or paintings.\n",
        "- **LAW_OR_POLICY**: Named laws, regulations, or policies (e.g., \"GDPR\").\n",
        "\n",
        "**Article to Analyze:**\n",
        "Title: {title}\n",
        "Content: {content[:1500]}  # Increased character limit slightly for better context\n",
        "\n",
        "**Instructions:**\n",
        "1.  Analyze the title and content to find the most significant topics.\n",
        "2.  Do not extract generic or overly broad terms (e.g., \"science\", \"research\").\n",
        "3.  Return **ONLY** a raw JSON array with the specified format. Do not add any introductory text, explanations, or markdown formatting like ```json.\n",
        "\n",
        "**JSON Output Format:**\n",
        "[\n",
        "  {{\"text\": \"entity name\", \"type\": \"TYPE_FROM_LIST_ABOVE\"}},\n",
        "  {{\"text\": \"another entity\", \"type\": \"TYPE_FROM_LIST_ABOVE\"}}\n",
        "]\n",
        "\"\"\"\n",
        "\n",
        "    try:\n",
        "        response = model.generate_content(\n",
        "            prompt,\n",
        "            generation_config=genai.types.GenerationConfig(\n",
        "                temperature=0.3,\n",
        "                max_output_tokens=1000,\n",
        "            )\n",
        "        )\n",
        "        \n",
        "        # Extract JSON from response\n",
        "        text = response.text\n",
        "        json_start = text.find('[')\n",
        "        json_end = text.rfind(']') + 1\n",
        "        \n",
        "        if json_start >= 0 and json_end > json_start:\n",
        "            topics = json.loads(text[json_start:json_end])\n",
        "            return [\n",
        "                {\n",
        "                    'text': t['text'],\n",
        "                    'type': t.get('type', 'SCIENTIFIC_TERM'),\n",
        "                    'confidence': 0.8,\n",
        "                    'tfidf_score': 0.5\n",
        "                }\n",
        "                for t in topics\n",
        "            ]\n",
        "        return []\n",
        "    except Exception as e:\n",
        "        print(f\"❌ Error extracting topics: {e}\")\n",
        "        return []\n",
        "\n",
        "print(\"✅ New extraction function ready\")\n"
      ]
    },
    {
      "cell_type": "code",
      "execution_count": 3,
      "metadata": {},
      "outputs": [
        {
          "name": "stdout",
          "output_type": "stream",
          "text": [
            "🧪 Testing with 3 sample articles\n"
          ]
        }
      ],
      "source": [
        "# Test with sample articles\n",
        "test_articles = [\n",
        "    {\n",
        "        \"title\": \"OpenAI Releases GPT-5 with Revolutionary AI Capabilities\",\n",
        "        \"content\": \"OpenAI has announced the release of GPT-5, their most advanced language model yet. The new model, built on Python and PyTorch frameworks, demonstrates significant improvements in reasoning, coding, and creative writing. CEO Sam Altman revealed that GPT-5 was trained on a massive dataset including scientific papers, legal documents, and creative works. The model shows particular strength in machine learning applications and can now generate complex Python code with 95% accuracy. Researchers at Stanford University have already begun testing the model's capabilities in various fields of study including computer science and artificial intelligence. The release comes just weeks after Google's announcement of their competing Gemini Pro model, marking a new era in the AI arms race.\"\n",
        "    },\n",
        "    {\n",
        "        \"title\": \"NASA's James Webb Telescope Discovers New Exoplanet in Habitable Zone\",\n",
        "        \"content\": \"NASA's James Webb Space Telescope has discovered a potentially habitable exoplanet orbiting a red dwarf star 40 light-years from Earth. The planet, designated TOI-715b, is located in the constellation of Ursa Major and shows signs of atmospheric water vapor. Dr. Sarah Johnson, lead astronomer at the Space Telescope Science Institute in Baltimore, Maryland, announced the discovery at the American Astronomical Society conference. The planet's atmosphere contains traces of methane and carbon dioxide, suggesting possible biological activity. This discovery represents a major breakthrough in the field of astrobiology and exoplanet research. The findings were published in the journal Nature and have implications for the search for extraterrestrial life.\"\n",
        "    },\n",
        "    {\n",
        "        \"title\": \"EU Implements New AI Act Regulating Artificial Intelligence Systems\",\n",
        "        \"content\": \"The European Union has officially implemented the AI Act, a comprehensive regulation governing artificial intelligence systems across all 27 member states. The legislation, which took effect on January 1st, 2025, requires companies to conduct risk assessments for high-risk AI applications. Tech giants like Google, Microsoft, and Meta must comply with strict transparency requirements for their AI systems. The law specifically targets machine learning models used in healthcare, finance, and autonomous vehicles. Companies developing AI products must now provide detailed documentation about their algorithms and training data. The regulation is expected to impact the global AI industry, with many companies already adapting their development practices to meet the new standards.\"\n",
        "    }\n",
        "]\n",
        "\n",
        "print(f\"🧪 Testing with {len(test_articles)} sample articles\")\n"
      ]
    },
    {
      "cell_type": "code",
      "execution_count": 4,
      "metadata": {},
      "outputs": [
        {
          "name": "stdout",
          "output_type": "stream",
          "text": [
            "\n",
            "============================================================\n",
            "📰 Article 1: OpenAI Releases GPT-5 with Revolutionary AI Capabilities\n",
            "Content preview: OpenAI has announced the release of GPT-5, their most advanced language model yet. The new model, bu...\n"
          ]
        },
        {
          "name": "stderr",
          "output_type": "stream",
          "text": [
            "WARNING: All log messages before absl::InitializeLog() is called are written to STDERR\n",
            "E0000 00:00:1760561776.471881 2741769 alts_credentials.cc:93] ALTS creds ignored. Not running on GCP and untrusted ALTS is not enabled.\n"
          ]
        },
        {
          "name": "stdout",
          "output_type": "stream",
          "text": [
            "\n",
            "✅ Extracted 11 topics:\n",
            "   1. OpenAI (ORG) - Confidence: 0.8\n",
            "   2. GPT-5 (PRODUCT) - Confidence: 0.8\n",
            "   3. Sam Altman (PERSON) - Confidence: 0.8\n",
            "   4. Python (PROGRAMMING_LANGUAGE) - Confidence: 0.8\n",
            "   5. PyTorch (PROGRAMMING_LANGUAGE) - Confidence: 0.8\n",
            "   6. machine learning (FIELD_OF_STUDY) - Confidence: 0.8\n",
            "   7. Stanford University (ORG) - Confidence: 0.8\n",
            "   8. computer science (FIELD_OF_STUDY) - Confidence: 0.8\n",
            "   9. artificial intelligence (FIELD_OF_STUDY) - Confidence: 0.8\n",
            "  10. Gemini Pro (PRODUCT) - Confidence: 0.8\n",
            "  11. Google (ORG) - Confidence: 0.8\n",
            "\n",
            "============================================================\n",
            "📰 Article 2: NASA's James Webb Telescope Discovers New Exoplanet in Habitable Zone\n",
            "Content preview: NASA's James Webb Space Telescope has discovered a potentially habitable exoplanet orbiting a red dw...\n",
            "\n",
            "✅ Extracted 10 topics:\n",
            "   1. James Webb Space Telescope (ORG) - Confidence: 0.8\n",
            "   2. Exoplanet (SCIENTIFIC_TERM) - Confidence: 0.8\n",
            "   3. TOI-715b (SCIENTIFIC_TERM) - Confidence: 0.8\n",
            "   4. Ursa Major (LOCATION) - Confidence: 0.8\n",
            "   5. Dr. Sarah Johnson (PERSON) - Confidence: 0.8\n",
            "   6. Space Telescope Science Institute (ORG) - Confidence: 0.8\n",
            "   7. Baltimore, Maryland (LOCATION) - Confidence: 0.8\n",
            "   8. American Astronomical Society (ORG) - Confidence: 0.8\n",
            "   9. Astrobiology (FIELD_OF_STUDY) - Confidence: 0.8\n",
            "  10. Nature (ORG) - Confidence: 0.8\n",
            "\n",
            "============================================================\n",
            "📰 Article 3: EU Implements New AI Act Regulating Artificial Intelligence Systems\n",
            "Content preview: The European Union has officially implemented the AI Act, a comprehensive regulation governing artif...\n",
            "\n",
            "✅ Extracted 10 topics:\n",
            "   1. EU (LOCATION) - Confidence: 0.8\n",
            "   2. AI Act (LAW_OR_POLICY) - Confidence: 0.8\n",
            "   3. Artificial Intelligence (FIELD_OF_STUDY) - Confidence: 0.8\n",
            "   4. Google (ORG) - Confidence: 0.8\n",
            "   5. Microsoft (ORG) - Confidence: 0.8\n",
            "   6. Meta (ORG) - Confidence: 0.8\n",
            "   7. machine learning (FIELD_OF_STUDY) - Confidence: 0.8\n",
            "   8. healthcare (FIELD_OF_STUDY) - Confidence: 0.8\n",
            "   9. finance (FIELD_OF_STUDY) - Confidence: 0.8\n",
            "  10. autonomous vehicles (PRODUCT) - Confidence: 0.8\n"
          ]
        }
      ],
      "source": [
        "# Test extraction on each article\n",
        "if model:\n",
        "    for i, article in enumerate(test_articles, 1):\n",
        "        print(f\"\\n{'='*60}\")\n",
        "        print(f\"📰 Article {i}: {article['title']}\")\n",
        "        print(f\"Content preview: {article['content'][:100]}...\")\n",
        "        \n",
        "        # Extract topics\n",
        "        topics = extract_topics_new_prompt(article['title'], article['content'])\n",
        "        \n",
        "        if topics:\n",
        "            print(f\"\\n✅ Extracted {len(topics)} topics:\")\n",
        "            for j, topic in enumerate(topics, 1):\n",
        "                print(f\"  {j:2d}. {topic['text']} ({topic['type']}) - Confidence: {topic['confidence']}\")\n",
        "        else:\n",
        "            print(\"❌ No topics extracted\")\n",
        "        \n",
        "        # Rate limiting\n",
        "        time.sleep(2)\n",
        "else:\n",
        "    print(\"❌ Gemini model not configured. Set GOOGLE_API_KEY to test.\")\n"
      ]
    },
    {
      "cell_type": "code",
      "execution_count": 5,
      "metadata": {},
      "outputs": [
        {
          "name": "stdout",
          "output_type": "stream",
          "text": [
            "\n",
            "📊 Analysis of 31 extracted topics:\n",
            "\n",
            "📈 Type Distribution:\n",
            "  ORG: 11 topics\n",
            "  FIELD_OF_STUDY: 8 topics\n",
            "  PRODUCT: 3 topics\n",
            "  PERSON: 2 topics\n",
            "  PROGRAMMING_LANGUAGE: 2 topics\n",
            "  SCIENTIFIC_TERM: 2 topics\n",
            "  LOCATION: 2 topics\n",
            "  LAW_OR_POLICY: 1 topics\n",
            "\n",
            "🔍 Examples by Type:\n",
            "  PERSON: Sam Altman, Dr. Sarah Johnson\n",
            "  ORG: OpenAI, Stanford University, Google...\n",
            "  LOCATION: Ursa Major, Baltimore, Maryland\n",
            "  PRODUCT: GPT-5, Gemini Pro, autonomous vehicles\n",
            "  PROGRAMMING_LANGUAGE: Python, PyTorch\n",
            "  SCIENTIFIC_TERM: Exoplanet, TOI-715b\n",
            "  FIELD_OF_STUDY: Machine Learning, computer science, artificial intelligence...\n",
            "  EVENT: (no examples)\n",
            "  WORK_OF_ART: (no examples)\n",
            "  LAW_OR_POLICY: AI Act\n"
          ]
        }
      ],
      "source": [
        "# Analyze type distribution\n",
        "if model:\n",
        "    all_topics = []\n",
        "    for article in test_articles:\n",
        "        topics = extract_topics_new_prompt(article['title'], article['content'])\n",
        "        all_topics.extend(topics)\n",
        "        time.sleep(1)  # Rate limiting\n",
        "    \n",
        "    if all_topics:\n",
        "        print(f\"\\n📊 Analysis of {len(all_topics)} extracted topics:\")\n",
        "        \n",
        "        # Count by type\n",
        "        type_counts = {}\n",
        "        for topic in all_topics:\n",
        "            type_counts[topic['type']] = type_counts.get(topic['type'], 0) + 1\n",
        "        \n",
        "        print(f\"\\n📈 Type Distribution:\")\n",
        "        for entity_type, count in sorted(type_counts.items(), key=lambda x: x[1], reverse=True):\n",
        "            print(f\"  {entity_type}: {count} topics\")\n",
        "        \n",
        "        # Show examples of each type\n",
        "        print(f\"\\n🔍 Examples by Type:\")\n",
        "        for entity_type in NEW_ENTITY_TYPES:\n",
        "            examples = [t['text'] for t in all_topics if t['type'] == entity_type]\n",
        "            if examples:\n",
        "                print(f\"  {entity_type}: {', '.join(examples[:3])}{'...' if len(examples) > 3 else ''}\")\n",
        "            else:\n",
        "                print(f\"  {entity_type}: (no examples)\")\n",
        "    else:\n",
        "        print(\"❌ No topics extracted for analysis\")\n",
        "else:\n",
        "    print(\"❌ Gemini model not configured. Set GOOGLE_API_KEY to test.\")\n"
      ]
    }
  ],
  "metadata": {
    "kernelspec": {
      "display_name": "venv",
      "language": "python",
      "name": "python3"
    },
    "language_info": {
      "codemirror_mode": {
        "name": "ipython",
        "version": 3
      },
      "file_extension": ".py",
      "mimetype": "text/x-python",
      "name": "python",
      "nbconvert_exporter": "python",
      "pygments_lexer": "ipython3",
      "version": "3.11.0"
    }
  },
  "nbformat": 4,
  "nbformat_minor": 2
}
