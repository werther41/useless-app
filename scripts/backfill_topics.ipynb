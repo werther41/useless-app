{
 "cells": [
  {
   "cell_type": "markdown",
   "metadata": {},
   "source": [
    "# NER + TF-IDF Topic Extraction Backfill\n",
    "\n",
    "This notebook processes existing news articles to extract topics using Named Entity Recognition (NER) with Google Gemini and TF-IDF scoring.\n",
    "\n",
    "## Overview\n",
    "1. Load articles from database\n",
    "2. Extract entities using Gemini NER\n",
    "3. Calculate TF-IDF scores\n",
    "4. Store topics and update trending topics\n",
    "5. Generate statistics and visualizations\n"
   ]
  },
  {
   "cell_type": "markdown",
   "metadata": {},
   "source": [
    "## 1. Setup and Configuration\n"
   ]
  },
  {
   "cell_type": "code",
   "execution_count": null,
   "metadata": {},
   "outputs": [],
   "source": [
    "import os\n",
    "import json\n",
    "import time\n",
    "import asyncio\n",
    "from datetime import datetime, timedelta\n",
    "from typing import List, Dict, Any, Optional\n",
    "import pandas as pd\n",
    "import numpy as np\n",
    "from tqdm import tqdm\n",
    "import matplotlib.pyplot as plt\n",
    "import seaborn as sns\n",
    "\n",
    "# Database and AI imports\n",
    "import libsql_client\n",
    "import google.generativeai as genai\n",
    "from sklearn.feature_extraction.text import TfidfVectorizer\n",
    "from sklearn.metrics.pairwise import cosine_similarity\n",
    "\n",
    "# Load environment variables\n",
    "from dotenv import load_dotenv\n",
    "load_dotenv()\n",
    "\n",
    "print(\"✅ All imports successful\")\n"
   ]
  },
  {
   "cell_type": "code",
   "execution_count": null,
   "metadata": {},
   "outputs": [],
   "source": [
    "# Configuration\n",
    "BATCH_SIZE = 15  # Process articles in batches\n",
    "RATE_LIMIT_DELAY = 2  # Seconds between API calls\n",
    "MAX_ARTICLES = None  # Set to None for all articles, or number to limit\n",
    "\n",
    "# Entity types for NER\n",
    "ENTITY_TYPES = [\n",
    "    'TECH', 'ORG', 'PERSON', 'LOCATION', 'CONCEPT', 'EVENT', 'OTHER'\n",
    "]\n",
    "\n",
    "# TF-IDF configuration\n",
    "TFIDF_CONFIG = {\n",
    "    'max_features': 1000,\n",
    "    'stop_words': 'english',\n",
    "    'ngram_range': (1, 2),  # unigrams and bigrams\n",
    "    'min_df': 2,  # minimum document frequency\n",
    "    'sublinear_tf': True  # log scaling\n",
    "}\n",
    "\n",
    "print(f\"📊 Configuration loaded:\")\n",
    "print(f\"   Batch size: {BATCH_SIZE}\")\n",
    "print(f\"   Rate limit: {RATE_LIMIT_DELAY}s\")\n",
    "print(f\"   Max articles: {MAX_ARTICLES or 'All'}\")\n",
    "print(f\"   Entity types: {ENTITY_TYPES}\")\n"
   ]
  },
  {
   "cell_type": "markdown",
   "metadata": {},
   "source": [
    "## 2. Database Connection\n"
   ]
  },
  {
   "cell_type": "code",
   "execution_count": null,
   "metadata": {},
   "outputs": [],
   "source": [
    "# Initialize database connection\n",
    "database_url = os.getenv('TURSO_DATABASE_URL')\n",
    "auth_token = os.getenv('TURSO_AUTH_TOKEN')\n",
    "\n",
    "if not database_url or not auth_token:\n",
    "    raise ValueError(\"Missing TURSO_DATABASE_URL or TURSO_AUTH_TOKEN in environment\")\n",
    "\n",
    "# Create database client\n",
    "client = libsql_client.create_client(\n",
    "    url=database_url,\n",
    "    auth_token=auth_token\n",
    ")\n",
    "\n",
    "print(\"✅ Database connection established\")\n"
   ]
  },
  {
   "cell_type": "code",
   "execution_count": null,
   "metadata": {},
   "outputs": [],
   "source": [
    "# Test database connection\n",
    "try:\n",
    "    result = client.execute(\"SELECT COUNT(*) as count FROM news_articles\")\n",
    "    total_articles = result.rows[0]['count']\n",
    "    print(f\"📰 Found {total_articles} articles in database\")\n",
    "    \n",
    "    # Check existing topics\n",
    "    result = client.execute(\"SELECT COUNT(*) as count FROM article_topics\")\n",
    "    existing_topics = result.rows[0]['count']\n",
    "    print(f\"🏷️  Found {existing_topics} existing topics\")\n",
    "    \n",
    "except Exception as e:\n",
    "    print(f\"❌ Database test failed: {e}\")\n",
    "    raise\n"
   ]
  },
  {
   "cell_type": "code",
   "execution_count": null,
   "metadata": {},
   "outputs": [],
   "source": []
  }
 ],
 "metadata": {
  "kernelspec": {
   "display_name": "venv",
   "language": "python",
   "name": "python3"
  },
  "language_info": {
   "codemirror_mode": {
    "name": "ipython",
    "version": 3
   },
   "file_extension": ".py",
   "mimetype": "text/x-python",
   "name": "python",
   "nbconvert_exporter": "python",
   "pygments_lexer": "ipython3",
   "version": "3.11.0"
  }
 },
 "nbformat": 4,
 "nbformat_minor": 4
}
